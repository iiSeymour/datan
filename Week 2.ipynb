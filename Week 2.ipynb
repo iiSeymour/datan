{
 "metadata": {
  "name": ""
 },
 "nbformat": 3,
 "nbformat_minor": 0,
 "worksheets": [
  {
   "cells": [
    {
     "cell_type": "markdown",
     "metadata": {},
     "source": [
      "<h1><center>Week 2</h1></center>\n",
      "\n",
      "At your individual Iris dataset take **Sepal length** *(the first column)* feature and find the histogram with 10 bins *(left-open intervals)*. Put the array of frequencies at the bins in the order of bins as your output.\n",
      "\n",
      "**Sample Input:**\n",
      "    \n",
      "    4.3\t3.0\t1.1\t0.1\tI.setosa\n",
      "    7.7\t3.0\t6.1\t2.3\tI.virginica\n",
      "\n",
      "**Sample Output:**\n",
      "\n",
      "    1 0 0 0 0 0 0 0 0 1"
     ]
    },
    {
     "cell_type": "code",
     "collapsed": false,
     "input": [
      "import seaborn\n",
      "import numpy as np\n",
      "import pandas as pd"
     ],
     "language": "python",
     "metadata": {},
     "outputs": [],
     "prompt_number": 4
    },
    {
     "cell_type": "markdown",
     "metadata": {},
     "source": [
      "#### Sample Answer:"
     ]
    },
    {
     "cell_type": "code",
     "collapsed": false,
     "input": [
      "print ' '.join(map(str, np.histogram([4.7, 7.7])[0]))"
     ],
     "language": "python",
     "metadata": {},
     "outputs": [
      {
       "output_type": "stream",
       "stream": "stdout",
       "text": [
        "1 0 0 0 0 0 0 0 0 1\n"
       ]
      }
     ],
     "prompt_number": 10
    },
    {
     "cell_type": "markdown",
     "metadata": {},
     "source": [
      "#### Read Data:"
     ]
    },
    {
     "cell_type": "code",
     "collapsed": false,
     "input": [
      "iris = pd.read_table('dataset_374_1.txt', header=None, names=['sepal_len','sepal_width','petal_len','petal_width','species'])\n",
      "iris.head()"
     ],
     "language": "python",
     "metadata": {},
     "outputs": [
      {
       "html": [
        "<div style=\"max-height:1000px;max-width:1500px;overflow:auto;\">\n",
        "<table border=\"1\" class=\"dataframe\">\n",
        "  <thead>\n",
        "    <tr style=\"text-align: right;\">\n",
        "      <th></th>\n",
        "      <th>sepal_len</th>\n",
        "      <th>sepal_width</th>\n",
        "      <th>petal_len</th>\n",
        "      <th>petal_width</th>\n",
        "      <th>species</th>\n",
        "    </tr>\n",
        "  </thead>\n",
        "  <tbody>\n",
        "    <tr>\n",
        "      <th>0</th>\n",
        "      <td> 6.3</td>\n",
        "      <td> 2.5</td>\n",
        "      <td> 4.9</td>\n",
        "      <td> 1.5</td>\n",
        "      <td> I.versicolor</td>\n",
        "    </tr>\n",
        "    <tr>\n",
        "      <th>1</th>\n",
        "      <td> 6.7</td>\n",
        "      <td> 3.0</td>\n",
        "      <td> 5.0</td>\n",
        "      <td> 1.7</td>\n",
        "      <td> I.versicolor</td>\n",
        "    </tr>\n",
        "    <tr>\n",
        "      <th>2</th>\n",
        "      <td> 5.9</td>\n",
        "      <td> 3.0</td>\n",
        "      <td> 4.2</td>\n",
        "      <td> 1.5</td>\n",
        "      <td> I.versicolor</td>\n",
        "    </tr>\n",
        "    <tr>\n",
        "      <th>3</th>\n",
        "      <td> 5.8</td>\n",
        "      <td> 4.0</td>\n",
        "      <td> 1.2</td>\n",
        "      <td> 0.2</td>\n",
        "      <td>     I.setosa</td>\n",
        "    </tr>\n",
        "    <tr>\n",
        "      <th>4</th>\n",
        "      <td> 6.6</td>\n",
        "      <td> 2.9</td>\n",
        "      <td> 4.6</td>\n",
        "      <td> 1.3</td>\n",
        "      <td> I.versicolor</td>\n",
        "    </tr>\n",
        "  </tbody>\n",
        "</table>\n",
        "<p>5 rows \u00d7 5 columns</p>\n",
        "</div>"
       ],
       "metadata": {},
       "output_type": "pyout",
       "prompt_number": 11,
       "text": [
        "   sepal_len  sepal_width  petal_len  petal_width       species\n",
        "0        6.3          2.5        4.9          1.5  I.versicolor\n",
        "1        6.7          3.0        5.0          1.7  I.versicolor\n",
        "2        5.9          3.0        4.2          1.5  I.versicolor\n",
        "3        5.8          4.0        1.2          0.2      I.setosa\n",
        "4        6.6          2.9        4.6          1.3  I.versicolor\n",
        "\n",
        "[5 rows x 5 columns]"
       ]
      }
     ],
     "prompt_number": 11
    },
    {
     "cell_type": "markdown",
     "metadata": {},
     "source": [
      "### Plot:"
     ]
    },
    {
     "cell_type": "code",
     "collapsed": false,
     "input": [
      "iris.sepal_len.hist()\n",
      "plt.show()"
     ],
     "language": "python",
     "metadata": {},
     "outputs": [
      {
       "metadata": {},
       "output_type": "display_data",
       "png": "[encoded data removed]",
       "text": [
        "<matplotlib.figure.Figure at 0x11066b950>"
       ]
      }
     ],
     "prompt_number": 8
    },
    {
     "cell_type": "markdown",
     "metadata": {},
     "source": [
      "#### Answer:"
     ]
    },
    {
     "cell_type": "code",
     "collapsed": false,
     "input": [
      "print ' '.join(map(str, np.histogram(iris.sepal_len)[0]))"
     ],
     "language": "python",
     "metadata": {},
     "outputs": [
      {
       "output_type": "stream",
       "stream": "stdout",
       "text": [
        "14 32 9 30 9 23 20 3 6 4\n"
       ]
      }
     ],
     "prompt_number": 9
    }
   ],
   "metadata": {}
  }
 ]
}