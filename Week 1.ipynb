{
 "metadata": {
  "name": ""
 },
 "nbformat": 3,
 "nbformat_minor": 0,
 "worksheets": [
  {
   "cells": [
    {
     "cell_type": "markdown",
     "metadata": {},
     "source": [
      "<h1><center>Week 1</center></h1>\n",
      "\n",
      "**Mastering your dataset.**\n",
      "\n",
      "Obtain your randomized version of the generic Iris dataset, a file of 150 rows and 5 columns, and compute the frequencies of categories in the last column. Answer the frequencies in the following order of categories: I.setosa, I.versicolor, I.virginica. Note that the frequencies are integers.\n",
      "\n",
      "**Sample Input:**\n",
      "\n",
      "    4.3 3.0\t1.1\t0.1\tI.setosa\n",
      "    7.7 3.0\t6.1\t2.3\tI.virginica\n",
      "\n",
      "**Sample Output:**\n",
      "\n",
      "    1 0 1"
     ]
    },
    {
     "cell_type": "code",
     "collapsed": false,
     "input": [
      "import pandas as pd"
     ],
     "language": "python",
     "metadata": {},
     "outputs": [],
     "prompt_number": 5
    },
    {
     "cell_type": "markdown",
     "metadata": {},
     "source": [
      "#### Read Data"
     ]
    },
    {
     "cell_type": "code",
     "collapsed": false,
     "input": [
      "iris = pd.read_table('dataset_317_1.txt', header=None, names=['sepal_len','sepal_width','petal_len','petal_width','species'])\n",
      "iris.head()"
     ],
     "language": "python",
     "metadata": {},
     "outputs": [
      {
       "html": [
        "<div style=\"max-height:1000px;max-width:1500px;overflow:auto;\">\n",
        "<table border=\"1\" class=\"dataframe\">\n",
        "  <thead>\n",
        "    <tr style=\"text-align: right;\">\n",
        "      <th></th>\n",
        "      <th>sepal_len</th>\n",
        "      <th>sepal_width</th>\n",
        "      <th>petal_len</th>\n",
        "      <th>petal_width</th>\n",
        "      <th>species</th>\n",
        "    </tr>\n",
        "  </thead>\n",
        "  <tbody>\n",
        "    <tr>\n",
        "      <th>0</th>\n",
        "      <td> 6.3</td>\n",
        "      <td> 2.9</td>\n",
        "      <td> 5.6</td>\n",
        "      <td> 1.8</td>\n",
        "      <td>  I.virginica</td>\n",
        "    </tr>\n",
        "    <tr>\n",
        "      <th>1</th>\n",
        "      <td> 5.7</td>\n",
        "      <td> 2.6</td>\n",
        "      <td> 3.5</td>\n",
        "      <td> 1.0</td>\n",
        "      <td> I.versicolor</td>\n",
        "    </tr>\n",
        "    <tr>\n",
        "      <th>2</th>\n",
        "      <td> 5.2</td>\n",
        "      <td> 2.7</td>\n",
        "      <td> 3.9</td>\n",
        "      <td> 1.4</td>\n",
        "      <td> I.versicolor</td>\n",
        "    </tr>\n",
        "    <tr>\n",
        "      <th>3</th>\n",
        "      <td> 6.7</td>\n",
        "      <td> 3.1</td>\n",
        "      <td> 4.7</td>\n",
        "      <td> 1.5</td>\n",
        "      <td> I.versicolor</td>\n",
        "    </tr>\n",
        "    <tr>\n",
        "      <th>4</th>\n",
        "      <td> 4.3</td>\n",
        "      <td> 3.0</td>\n",
        "      <td> 1.1</td>\n",
        "      <td> 0.1</td>\n",
        "      <td>     I.setosa</td>\n",
        "    </tr>\n",
        "  </tbody>\n",
        "</table>\n",
        "<p>5 rows \u00d7 5 columns</p>\n",
        "</div>"
       ],
       "metadata": {},
       "output_type": "pyout",
       "prompt_number": 4,
       "text": [
        "   sepal_len  sepal_width  petal_len  petal_width       species\n",
        "0        6.3          2.9        5.6          1.8   I.virginica\n",
        "1        5.7          2.6        3.5          1.0  I.versicolor\n",
        "2        5.2          2.7        3.9          1.4  I.versicolor\n",
        "3        6.7          3.1        4.7          1.5  I.versicolor\n",
        "4        4.3          3.0        1.1          0.1      I.setosa\n",
        "\n",
        "[5 rows x 5 columns]"
       ]
      }
     ],
     "prompt_number": 4
    },
    {
     "cell_type": "markdown",
     "metadata": {},
     "source": [
      "#### Answer"
     ]
    },
    {
     "cell_type": "code",
     "collapsed": false,
     "input": [
      "print ' '.join(map(str, iris.groupby('species').size().values))"
     ],
     "language": "python",
     "metadata": {},
     "outputs": [
      {
       "output_type": "stream",
       "stream": "stdout",
       "text": [
        "51 47 52\n"
       ]
      }
     ],
     "prompt_number": 9
    }
   ],
   "metadata": {}
  }
 ]
}