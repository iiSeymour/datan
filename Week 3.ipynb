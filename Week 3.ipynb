{
 "metadata": {
  "name": ""
 },
 "nbformat": 3,
 "nbformat_minor": 0,
 "worksheets": [
  {
   "cells": [
    {
     "cell_type": "markdown",
     "metadata": {},
     "source": [
      "<h1><center>Week 3</center></h1>\n",
      "\n",
      "Find the coefficients of linear regression y = ax + b of the petal width and petal lengths (features 3 and 4 respectively) as well as the determinacy coefficient between them.\n",
      "\n",
      "Output three float numbers in the following order: a coefficient, b coefficient, determency coefficient.\n",
      "\n",
      "All problems allow to make a default error of 0.001 in all decimal answers unless otherwise stated.\n",
      "\n",
      "**Sample Input:**\n",
      "    \n",
      "    4.3\t3.0\t1.1\t0.1\tI.setosa\n",
      "    7.7\t3.0\t6.1\t2.3\tI.virginica\n",
      "\n",
      "**Sample Output:**\n",
      "\n",
      "    2.272727 0.872727 1.0"
     ]
    },
    {
     "cell_type": "code",
     "collapsed": false,
     "input": [
      "import seaborn\n",
      "import pandas as pd\n",
      "from scipy import stats"
     ],
     "language": "python",
     "metadata": {},
     "outputs": [],
     "prompt_number": 73
    },
    {
     "cell_type": "markdown",
     "metadata": {},
     "source": [
      "#### Sample Answer:"
     ]
    },
    {
     "cell_type": "code",
     "collapsed": false,
     "input": [
      "a = [1.1, 6.1]\n",
      "b = [0.1, 2.3]\n",
      "\n",
      "gradient, intercept, r_value, p_value, std_err = stats.linregress(b, a)\n",
      "print '{:.6f} {:6f} {:.6f}'.format(gradient, intercept, r_value)"
     ],
     "language": "python",
     "metadata": {},
     "outputs": [
      {
       "output_type": "stream",
       "stream": "stdout",
       "text": [
        "2.272727 0.872727 1.000000\n"
       ]
      }
     ],
     "prompt_number": 74
    },
    {
     "cell_type": "markdown",
     "metadata": {},
     "source": [
      "#### Read Data:"
     ]
    },
    {
     "cell_type": "code",
     "collapsed": false,
     "input": [
      "iris = pd.read_table('dataset_389_1.txt', header=None, names=['sepal_len','sepal_width','petal_len','petal_width','species'])\n",
      "iris.head()"
     ],
     "language": "python",
     "metadata": {},
     "outputs": [
      {
       "html": [
        "<div style=\"max-height:1000px;max-width:1500px;overflow:auto;\">\n",
        "<table border=\"1\" class=\"dataframe\">\n",
        "  <thead>\n",
        "    <tr style=\"text-align: right;\">\n",
        "      <th></th>\n",
        "      <th>sepal_len</th>\n",
        "      <th>sepal_width</th>\n",
        "      <th>petal_len</th>\n",
        "      <th>petal_width</th>\n",
        "      <th>species</th>\n",
        "    </tr>\n",
        "  </thead>\n",
        "  <tbody>\n",
        "    <tr>\n",
        "      <th>0</th>\n",
        "      <td> 4.7</td>\n",
        "      <td> 3.2</td>\n",
        "      <td> 1.3</td>\n",
        "      <td> 0.2</td>\n",
        "      <td>     I.setosa</td>\n",
        "    </tr>\n",
        "    <tr>\n",
        "      <th>1</th>\n",
        "      <td> 5.0</td>\n",
        "      <td> 3.0</td>\n",
        "      <td> 1.6</td>\n",
        "      <td> 0.2</td>\n",
        "      <td>     I.setosa</td>\n",
        "    </tr>\n",
        "    <tr>\n",
        "      <th>2</th>\n",
        "      <td> 4.4</td>\n",
        "      <td> 2.9</td>\n",
        "      <td> 1.4</td>\n",
        "      <td> 0.2</td>\n",
        "      <td>     I.setosa</td>\n",
        "    </tr>\n",
        "    <tr>\n",
        "      <th>3</th>\n",
        "      <td> 6.0</td>\n",
        "      <td> 2.9</td>\n",
        "      <td> 4.5</td>\n",
        "      <td> 1.5</td>\n",
        "      <td> I.versicolor</td>\n",
        "    </tr>\n",
        "    <tr>\n",
        "      <th>4</th>\n",
        "      <td> 5.0</td>\n",
        "      <td> 3.6</td>\n",
        "      <td> 1.4</td>\n",
        "      <td> 0.2</td>\n",
        "      <td>     I.setosa</td>\n",
        "    </tr>\n",
        "  </tbody>\n",
        "</table>\n",
        "<p>5 rows \u00d7 5 columns</p>\n",
        "</div>"
       ],
       "metadata": {},
       "output_type": "pyout",
       "prompt_number": 69,
       "text": [
        "   sepal_len  sepal_width  petal_len  petal_width       species\n",
        "0        4.7          3.2        1.3          0.2      I.setosa\n",
        "1        5.0          3.0        1.6          0.2      I.setosa\n",
        "2        4.4          2.9        1.4          0.2      I.setosa\n",
        "3        6.0          2.9        4.5          1.5  I.versicolor\n",
        "4        5.0          3.6        1.4          0.2      I.setosa\n",
        "\n",
        "[5 rows x 5 columns]"
       ]
      }
     ],
     "prompt_number": 69
    },
    {
     "cell_type": "markdown",
     "metadata": {},
     "source": [
      "#### Plot:"
     ]
    },
    {
     "cell_type": "code",
     "collapsed": false,
     "input": [
      "plt.scatter(iris.petal_width, iris.petal_len)\n",
      "plt.show()"
     ],
     "language": "python",
     "metadata": {},
     "outputs": [
      {
       "metadata": {},
       "output_type": "display_data",
       "png": "[encoded data removed]",
       "text": [
        "<matplotlib.figure.Figure at 0x10c0b4dd0>"
       ]
      }
     ],
     "prompt_number": 75
    },
    {
     "cell_type": "markdown",
     "metadata": {},
     "source": [
      "#### Answer:"
     ]
    },
    {
     "cell_type": "code",
     "collapsed": false,
     "input": [
      "gradient, intercept, r_value, p_value, std_err = stats.linregress(iris.petal_width, iris.petal_len)\n",
      "print '{:.6f} {:6f} {:.6f}'.format(gradient, intercept, r_value)"
     ],
     "language": "python",
     "metadata": {},
     "outputs": [
      {
       "output_type": "stream",
       "stream": "stdout",
       "text": [
        "2.244269 1.064593 0.962837\n"
       ]
      }
     ],
     "prompt_number": 76
    }
   ],
   "metadata": {}
  }
 ]
}